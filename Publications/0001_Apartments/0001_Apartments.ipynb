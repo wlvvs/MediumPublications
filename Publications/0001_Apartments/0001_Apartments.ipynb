{
 "cells": [
  {
   "cell_type": "markdown",
   "metadata": {
    "cell_id": "00000-3ee20133-2ebb-4ef0-b8a8-af8dc051b412",
    "deepnote_cell_type": "markdown",
    "tags": []
   },
   "source": [
    "# Los matemáticos tienen los mejores apartamentos\n",
    "\n",
    "![](https://image.freepik.com/free-vector/living-room-with-panoramic-window-interior_33099-1728.jpg)"
   ]
  },
  {
   "cell_type": "markdown",
   "metadata": {
    "cell_id": "00001-9e4707d7-9566-4a34-8c5a-c43c4cdf02ed",
    "deepnote_cell_type": "markdown",
    "deepnote_to_be_reexecuted": false,
    "execution_millis": 12,
    "execution_start": 1625625111692,
    "source_hash": "c141aac9",
    "tags": []
   },
   "source": [
    "El sedentarismo como base de los establecimientos humanos ha planteado beneficios y, al mismo tiempo, problemas y dudas.\n",
    "No hay nada como el hogar y ese concepto va mas allá de los espacios físicos, pero, ¿no sería hermoso saber que el sitio donde hemos elegido establecernos es el mejor para nosotros? La respuesta es si y su complemento básico son **las matemáticas**.\n",
    "\n",
    "Si alguna vez has estado involucrado en el tedioso proceso de elegír un apartamento para mudarte, sabes de antemano que existen diversos factores que representan un problema al momento de elegir cual es el que mas te conviene. Usualmente, el aspecto económico es la punta de flecha para encarrilar nuestra decisión.\n",
    "\n",
    "Pero, ¿que opinarías si te dijera que hay una forma más efectiva e integral de realizar dicho proceso? Te enseñaré un planteamiento que hará que entiendas porque es importante tomar matemáticas en la escuela y sobre todo, como aplicarlas en la vida diaria.\n",
    "\n",
    "\n",
    "### Las reglas del juego\n",
    "Vamos a idealizar el espacio de un apartamento con los aspectos comunes de distribución de habitaciones. Y vamos a pensar que el escenario de nuestra mudanza es la independencia, lo que significa que tendremos un espacio propio sin acompañantes. Para no hacer tan enrredado el proceso, vamos a asignar a dichos espacios un identificador:\n",
    "\n",
    "1. Dormitorio. Lo identificaremos con la letra `D`. Para este caso, solo necesitaremos uno (`1D`)\n",
    "2. Baño. Lo identificaremos con la letra `B`. Yo soy muy celoso de mi espacio, por lo que deseo uno para uso exclusivo mio y otro para mis visitas. Entonces, tendremos dos baños (`2B`)\n",
    "3. Sala. La identificaremos con la letra `S`. Solo necesitamos una (`1S`)\n",
    "4. Comedor. Lo identificaremos con la letra `C`. Solo necesitamos uno (`1C`)\n",
    "5. Estudio. Lo identificaremos con la letra `E`. Podría usar la sala como estudio, pero como quiero tener un espacio de entretenimiento, lo tomaré como una habitación adicional (`1E`)\n",
    "6. Cocina. La identificaremos con la letra `K`. Sólo necesitamos una (`1K`)\n",
    "6. Garage. Lo identificaremos con la letra `G`. En mi caso, no tengo automovil y no pretendo tener uno de momento (`0G`)\n",
    "\n",
    "Encontré un pequeño artículo en donde te explican las cosas que deberías tomar en cuenta para [diseñar tus espacios](https://www.construyehogar.com/departamentos/disenar-un-departamento-hacer-los-planos-y-diseno-en-terreno-pequeno/), no es el tema de este post pero quizás te sirva.\n",
    "\n",
    "Ahora, tomando en cuenta los espacios que necesitamos (**2 habitaciones, 2 baños, 1 sala, 1 comedor, 1 cocina Y 0 garage**), decidimos que el tope presupuestal que destinaremos a nuestra vivienda, nuestro hermoso hogar, será de **$7000 pesos mexicanos**. De momentos, temas como zonificación, pago de servicios y demás factores que influyen, serán dejados de lado, aunque sería muy interesante incluirlos ***(spoiler alert)*** y posiblemente lo hagamos en una siguiente entrega.\n",
    "\n",
    "Si expresamos de una manera resumida nuestro requerimiento habitacional, tenemos:\n",
    "\n",
    "$$\n",
    "D + 2B + S + C + E + K + G(0)= 7000\n",
    "$$\n",
    "\n",
    "Nótese que para el caso de garage, se agrega un paréntesis con un cero interno. Esto se hace para que, en nuestro ideal, el valor de garages que pudiera tener el apartamento sea justamente cero, ya que todo número al ser multiplicado por cero, se convierte en cero.\n",
    "Ahora, tanto el dormitorio como el estudio pueden englobarse como habitaciones de uso común, así que, para hacer la expresión de una manera mas sencilla, vamos a unificarlas con la letra `H` y, entonces, la expresión quedará de la siguiente manera:\n",
    "\n",
    "$$\n",
    "2H + 2B + S + C + K + G(0)= 7000\n",
    "$$\n",
    "\n",
    "\n",
    "> **Sin querer, de un planteamiendo en la vida real, llegamos a la definicion de una función matemática.\n",
    "Lo que sigue, es usar esas expresiones para encontrar de un grupo de opciones de apartamentos, cual es la que nos conviene mas con respeto a nuestro ideal.**\n"
   ]
  },
  {
   "cell_type": "markdown",
   "metadata": {
    "cell_id": "00008-a8e89214-e291-470c-b232-ee2effad6ec4",
    "deepnote_cell_type": "markdown",
    "tags": []
   },
   "source": [
    "### Explicando los números\n",
    "\n",
    "La expresión que definimos para ejemplificar el apartamento ideal, puede expresarse de una manera mas sencilla haciendo uso sólo de los coeficientes, es decir, el valor numérico que acompaña a las letras que definimos como la notación de las habitaciones del apartamento.\n",
    "Y, para ser aún mas simple, se puede usar una notación mas sencilla que esté definida como un **vector de datos**.\n",
    "Por tanto, el apartamento ideal lucirá de la siguiente manera:\n",
    "\n",
    "$$\n",
    "\\mathbf{I} = \\begin{bmatrix} 7000\\\\ 2\\\\ 2\\\\ 1\\\\ 1\\\\ 1\\\\ 0\\\\ \\end{bmatrix}\n",
    "$$\n",
    "\n",
    "Si te das cuenta, el monto que estamos dispuestos a pagar difiere demasiado con respecto a los valores de los demás coeficientes de nuestro apartamento ideal, lo que, en términos matemáticos, puede ocasionarnos problemas al momento de hacer los cálculos. Esto sucede porque, al momento de realizar las operaciones con vectores, el valor que representa el monto a pagar tendrá mayor importancia contra los demás parámetros de comparación. **Lo ideal es que todos los parámetros esten equiparados para que sean parte equitativa de la selección del mejor apartamento**. Por esa razón, vamos a generar un listado de ragos que de igual forma nos permita poder jugar con dichos montos.\n",
    "\n",
    "Entonces, el rango de montos que encontramos en el mercado son, hipotéticamente, los siguientes:\n",
    "\n",
    "1. El pago mensual es menor o igual a 7500\n",
    "2. El pago mensual es mayor que 7500 y menor o igual a 8000\n",
    "3. El pago mensual es mayor que 8000\n",
    "\n",
    "Con los rangos definidos, la expresión vectorial de nuestro apartamento ideal quedará como sigue:\n",
    "\n",
    "$$\n",
    "\\mathbf{Ideal} = \\begin{bmatrix} 1\\\\ 2\\\\ 2\\\\ 1\\\\ 1\\\\ 1\\\\ 0\\\\ \\end{bmatrix}\n",
    "$$\n",
    "\n",
    "Con esto, ya podemos comenzar a realizar operaciones que nos ayuden a encontrar el apartamento de nuestros sueños. Pero primero, es importante mencionar conceptos que posiblemente no te sean familiares y que se han estado usando con anterioridad.\n"
   ]
  },
  {
   "cell_type": "markdown",
   "metadata": {
    "cell_id": "00008-f2063e49-0489-4474-99ee-7a8ab46ad365",
    "deepnote_cell_type": "markdown",
    "tags": []
   },
   "source": [
    "### Explicando los conceptos\n",
    "\n",
    "Para que te sea mas claro entender la magia que hay detrás de este simple ejercicio, es necesario que conozcas los siguientes conceptos.\n",
    "\n",
    "\n",
    "**Función**. Una función es una regla en donde cada elemento de un conjunto A corresponde única y exclusivamente a un elemento de un conjunto B. En el ejemplo del apartamento, digo que la expresión \n",
    "\n",
    "$$\n",
    "2H + 2B + S + C + K + G(0)= 7000\n",
    "$$\n",
    "\n",
    "es una función porque el conjunto de elementos que forman al apartamento (es decir, las habitaciones en general) corresponden al costo de $7000 pesos mexicanos.\n",
    "\n",
    "**Vector**.  Un vector es un segmento de línea recta que puede ser representado dentro de un plano. Las características fundamentales de un vector son **módulo** (la longitud del segmento de recta), **dirección** (el ángulo que forma el vector con respecto a un eje, normalmente el eje x del plano) y **sentido** (la orientación del segmento de recta del origen al extremo del mismo). Se usa para representar magnitudes vectoriales y, en el caso de nuestro ejercicio, para ubicar en un plano espacial la representación de nuestros coeficientes para realizar operaciones\n",
    "\n",
    "\n",
    "Ahora, con estos conceptos, lo que vamos a hacer es representar matemáticamente nuestro apartamento ideal y vamos a calcular que tan asemejados en características están otros apartamentos con base a distancia vectorial.\n"
   ]
  },
  {
   "cell_type": "markdown",
   "metadata": {
    "cell_id": "00009-2b39ab11-3e5c-43d8-a820-3bc57f88c73f",
    "deepnote_cell_type": "markdown",
    "tags": []
   },
   "source": [
    "### ¿Que apartamento debo pelear?\n",
    "\n",
    "Realizar el cálculo de la distancia entre dos vectores es un proceso muy sencillo que se lleva a cabo desarrollando la siguiente fórmula, que es la fórmula de la distancia entre la norma de dos vectores:\n",
    "\n",
    "$$\n",
    "dist(\\mathbf{a},\\mathbf{b}) = ||\\mathbf{a} - \\mathbf{b}|| = \\displaystyle\\sqrt{(a_{0}-b_{0})^2 + (a_{1}-b_{1})^2 + \\cdots + (a_{n-1}-b_{n-1})^2}\n",
    "$$\n",
    "\n",
    "En donde a y b son dos vectores cualesquiera dentro del plano.\n",
    "La distancia que se calcula con la aplicación de dicha fórmula se llama **distancia euclidiana**. Y toma ese nombre por usar los métodos de medición de distancias que estableció un matemático y pensador griego llamado Euclides.\n",
    "\n",
    "![](https://image.freepik.com/free-vector/illustration-chemical-formulas_53876-18348.jpg)\n",
    "\n",
    "Podríamos honrar su memoria y desarrollar la fórmula con los casos que planteaeremos para el ejercicio, sin embargo, lo haremos por medio de **[Python](https://www.python.org)**.\n",
    "\n",
    "Python es un lenguaje de programación interpretado cuya filosofía hace hincapié en la legibilidad de su código. Se trata de un lenguaje de programación multiparadigma, que soporta parcialmente la orientación a objetos, programación imperativa y, en menor medida, programación funcional. Es un lenguaje interpretado, dinámico y multiplataforma. **Y en pocas palabras, es amor**.\n",
    "\n",
    "Python se basa en librerias, que son colecciones de programas que resuelven problemas frecuentes y que forman parte del stack de herramientas que proporciona para el desarrollo de soluciones mas complejas. En este caso, usaremos **[numpy](https://numpy.org)**. Numpy es una libreria que engloba múltiples conceptos de matemáticas avanzadas y nos ayudará a obtener la distancia euclidiana de los vectores que representarán a los apartamentos y, con ello, conocer cual es la mejor opción.\n",
    "\n",
    "Definamos las propuestas de apartamento como siguen:\n",
    "\n",
    "$$\n",
    "\\mathbf{Ap_{1}} = \\begin{bmatrix} 2\\\\ 2\\\\ 2\\\\ 1\\\\ 1\\\\ 1\\\\ 1\\\\ \\end{bmatrix}, \\qquad \\mathbf{Ap_{2}} = \\begin{bmatrix} 1\\\\ 2\\\\ 1\\\\ 1\\\\ 1\\\\ 1\\\\ 1\\\\ \\end{bmatrix}, \\qquad \\mathbf{Ap_{3}} = \\begin{bmatrix} 3\\\\ 3\\\\ 2\\\\ 1\\\\ 1\\\\ 1\\\\ 0\\\\ \\end{bmatrix}, \\qquad \\mathbf{Ap_{4}} = \\begin{bmatrix} 1\\\\ 1\\\\ 1\\\\ 1\\\\ 1\\\\ 1\\\\ 2\\\\ \\end{bmatrix}\n",
    "$$\n",
    "\n",
    "Y la redacción de los vectores de apartamentos se entiende de la siguente manera:\n",
    "\n",
    "**AP1**. Tiene un rango de precio mayor a 7500 y menor o igual a 8000, tiene 2 habitaciones, 2 baños, 1 sala, 1 comedor, 1 cocina y 1 garage\n",
    "\n",
    "**AP2**. Tiene un rango de precio menor o igual a 7500, tiene 2 habitaciones, 1 baño, 1 sala, 1 comedor, 1 cocina y 1 garage\n",
    "\n",
    "**AP3**. Tiene un rango de precio mayor a 8000, tiene 3 habitaciones, 2 baños, 1 sala, 1 comedor, 1 cocina y 0 garage\n",
    "\n",
    "**AP4**- Tiene un rango de precio mayor a 7500 y menor o igual a 8000, tiene 1 habitacion, 1 baño, 1 sala, 1 comedor, 1 cocina y 2 garages\n",
    "\n",
    "Recordemos la notación de mi apartamento ideal:\n",
    "\n",
    "**Ideal**. Tiene un rango de precio mayor a 7500 y menor o igual a 8000, tiene 2 habitaciones, 2 baños, 1 sala, 1 comedor, 1 cocina y 0 garage\n",
    "\n",
    "Por intuición de redacción, parece que **AP2** y **AP4** serían las opciones preferentes.\n",
    "**AP2** me da 1 garage que no necesito, mientras que **AP4** sólo me entrega 1 habitación y 1 baño y me ofrece 2 garages.\n",
    "Y ambas opciones se apegan al rango presupuestal. ¿Que papel jugará el garage dentro de este análisis?\n",
    "\n",
    "Veamos que dicen los números al respecto.\n"
   ]
  },
  {
   "cell_type": "markdown",
   "metadata": {
    "cell_id": "00010-1931e975-e67b-4989-92b4-6e2e6bcc885a",
    "deepnote_cell_type": "markdown",
    "tags": []
   },
   "source": [
    "### Que lo haga Python\n",
    "\n",
    "Lo primero que debemos hacer, es cargar la libreria que nos ayudará a realizar las operaciones matemáticas, numpy.\n",
    "Esta librería se carga con un alias, que son las letras que aparecen enseguida de la declaración y este alias nos ayudará posteriormente para que Python entienda que se usarán métodos y funciones internas de numpy."
   ]
  },
  {
   "cell_type": "code",
   "execution_count": 1,
   "metadata": {
    "cell_id": "00002-b2057acc-ccc8-479d-8499-b36a19abdfb7",
    "deepnote_cell_type": "code",
    "deepnote_to_be_reexecuted": false,
    "execution_millis": 0,
    "execution_start": 1638919337183,
    "source_hash": "c2602aa8",
    "tags": []
   },
   "outputs": [],
   "source": [
    "import numpy as np"
   ]
  },
  {
   "cell_type": "markdown",
   "metadata": {
    "cell_id": "00003-009f863c-3e77-4190-91dc-29fed286372c",
    "deepnote_cell_type": "markdown",
    "tags": []
   },
   "source": [
    "Una vez que numpy ha sido cargada, vamos a declarar dentro del código de Python los vectores que usaremos, tanto el ideal como el de las opciones que queremos comparar.\n",
    "Por si solos, los datos que representamos entre corchetes cuadrados dentro de la redacción, son entendidos como vectores, sin embargo, para que Python entienda que esos valores deben ser considerados como tal, estos deben ser definidos por medio de un arreglo de numpy."
   ]
  },
  {
   "cell_type": "code",
   "execution_count": 2,
   "metadata": {
    "cell_id": "00004-cd12dc23-90e2-4deb-95a0-c66d0090b451",
    "deepnote_cell_type": "code",
    "deepnote_output_heights": [
     21
    ],
    "deepnote_to_be_reexecuted": false,
    "execution_millis": 0,
    "execution_start": 1638919337236,
    "source_hash": "47821fc0",
    "tags": []
   },
   "outputs": [
    {
     "name": "stdout",
     "output_type": "stream",
     "text": [
      "Apartamento ideal: [1 2 2 1 1 1 0]\n",
      "Apartamento 1: [2 2 2 1 1 1 1]\n",
      "Apartamento 2: [1 2 1 1 1 1 1]\n",
      "Apartamento 3: [3 3 2 1 1 1 0]\n",
      "Apartamento 4: [1 1 1 1 1 1 2]\n"
     ]
    }
   ],
   "source": [
    "ideal_apartment = np.array([1, 2, 2, 1, 1, 1, 0])\n",
    "\n",
    "ap1 = np.array([2, 2, 2, 1, 1, 1, 1])\n",
    "ap2 = np.array([1, 2, 1, 1, 1, 1, 1])\n",
    "ap3 = np.array([3, 3, 2, 1, 1, 1, 0])\n",
    "ap4 = np.array([1, 1, 1, 1, 1, 1, 2])\n",
    "\n",
    "print('Apartamento ideal:', ideal_apartment)\n",
    "print('Apartamento 1:', ap1)\n",
    "print('Apartamento 2:', ap2)\n",
    "print('Apartamento 3:', ap3)\n",
    "print('Apartamento 4:', ap4)"
   ]
  },
  {
   "cell_type": "markdown",
   "metadata": {
    "cell_id": "00005-c9901440-7c27-4dd6-b584-7ec6d6c5c7e2",
    "deepnote_cell_type": "markdown",
    "tags": []
   },
   "source": [
    "Numpy es capaz de realizar la operación del cálculo de la distancia junto con la obtención de la norma del vector en una sola línea de código, por lo que procederemos a realizar el cálculo de dichos valores para cada caso de apartamentos."
   ]
  },
  {
   "cell_type": "code",
   "execution_count": 3,
   "metadata": {
    "cell_id": "00006-804ff503-6877-434d-a238-dbf9d17491ba",
    "deepnote_cell_type": "code",
    "deepnote_to_be_reexecuted": false,
    "execution_millis": 285,
    "execution_start": 1638919337237,
    "scrolled": true,
    "source_hash": "345b957b",
    "tags": []
   },
   "outputs": [
    {
     "name": "stdout",
     "output_type": "stream",
     "text": [
      "La distancia entre el apartamento ideal y el apartamento 1 es:  1.4142135623730951\n",
      "La distancia entre el apartamento ideal y el apartamento 2 es:  1.4142135623730951\n",
      "La distancia entre el apartamento ideal y el apartamento 3 es:  2.23606797749979\n",
      "La distancia entre el apartamento ideal y el apartamento 4 es:  2.449489742783178\n"
     ]
    }
   ],
   "source": [
    "r1 = np.linalg.norm(ideal_apartment - ap1)\n",
    "r2 = np.linalg.norm(ideal_apartment - ap2)\n",
    "r3 = np.linalg.norm(ideal_apartment - ap3)\n",
    "r4 = np.linalg.norm(ideal_apartment - ap4)\n",
    "print('La distancia entre el apartamento ideal y el apartamento 1 es: ', r1)\n",
    "print('La distancia entre el apartamento ideal y el apartamento 2 es: ', r2)\n",
    "print('La distancia entre el apartamento ideal y el apartamento 3 es: ', r3)\n",
    "print('La distancia entre el apartamento ideal y el apartamento 4 es: ', r4)"
   ]
  },
  {
   "cell_type": "markdown",
   "metadata": {},
   "source": [
    "\n",
    "Con base a los resultados arrojados por el código, **Apartamento 1** y **Apartamento 2** son las mejores opciones y, al contrario de lo que pensaba al plantear las opciones, **Apartamento 4** resultó ser la peor. Esto se observa con **el valor de puntaje en distancia**, en donde los valores mas pequeños son los que mas favorecen a nuestro apartamento ideal.\n",
    "Pero, ¿porque se obtienen dichas conclusiones?\n",
    "\n",
    "El detalle fundamental es el rango que definimos para los montos. Como comentaba previamente, mantener montos reales haría que los resultados se vieran fuertemente sesgados por la cantidad mas grande, en este caso, el monto. Y al definir los umbrales monetarios de una manera poco granular, es decir, con rangos no equitativos, el umbral indica que, aunque debo pagar mas por **Apartamento 1**, es una buena opción debido a que conserva todas las demás condiciones de habitaciones que necesito.\n",
    "\n",
    "Vamos a hacer un reajuste en los umbrales de monto, para corroborar que lo anteriormente dicho es verdad.\n",
    "Ahora, los umbrales estarán definidos como sigue 👀:\n",
    "\n",
    "1. El pago mensual es menor o igual a 5000\n",
    "2. El pago mensual es mayor que 5000 y menor o igual a 6000\n",
    "3. El pago mensual es mayor que 6000 y menor o igual a 7000\n",
    "4. El pago mensual es mayor que 7000 y menor o igual a 8000\n",
    "5. El pago mensual es mayor que 8000 y menor o igual a 9000\n",
    "6. El pago mensual es mayor que 9000\n",
    "\n",
    "Y con ello, vamos a reajustar los vectores tanto del apartamento ideal como de los apartamentos propuestos:\n",
    "\n",
    "\n",
    "$$\n",
    "\\mathbf{Ap_{1}} = \\begin{bmatrix} 4\\\\ 2\\\\ 2\\\\ 1\\\\ 1\\\\ 1\\\\ 1\\\\ \\end{bmatrix}, \\qquad \\mathbf{Ap_{2}} = \\begin{bmatrix} 3\\\\ 2\\\\ 1\\\\ 1\\\\ 1\\\\ 1\\\\ 1\\\\ \\end{bmatrix}, \\qquad \\mathbf{Ap_{3}} = \\begin{bmatrix} 5\\\\ 3\\\\ 2\\\\ 1\\\\ 1\\\\ 1\\\\ 0\\\\ \\end{bmatrix}, \\qquad \\mathbf{Ap_{4}} = \\begin{bmatrix} 3\\\\ 1\\\\ 1\\\\ 1\\\\ 1\\\\ 1\\\\ 2\\\\ \\end{bmatrix}\n",
    "$$\n",
    "\n",
    "$$\n",
    "\\mathbf{Ideal} = \\begin{bmatrix} 3\\\\ 2\\\\ 2\\\\ 1\\\\ 1\\\\ 1\\\\ 0\\\\ \\end{bmatrix}\n",
    "$$\n",
    "\n",
    "\n",
    "Y la redacción de los vectores de apartamentos se entiende de la siguente manera:\n",
    "\n",
    "**AP1**. Tiene un precio de 7500 (rango 4), tiene 2 habitaciones, 2 baños, 1 sala, 1 comedor, 1 cocina y 1 garage\n",
    "\n",
    "**AP2**. Tiene un precio de 7000 (rango 3), tiene 2 habitaciones, 1 baño, 1 sala, 1 comedor, 1 cocina y 1 garage\n",
    "\n",
    "**AP3**. Tiene un precio de 8900 (rango 5), tiene 3 habitaciones, 2 baños, 1 sala, 1 comedor, 1 cocina y 0 garage\n",
    "\n",
    "**AP4**- Tiene un precio de 7000 (rango 3), tiene 1 habitacion, 1 baño, 1 sala, 1 comedor, 1 cocina y 2 garages\n",
    "\n",
    "**Ideal**. Tiene un precio de 7000 (rango 3), tiene 2 habitaciones, 2 baños, 1 sala, 1 comedor, 1 cocina y 0 garage\n",
    "\n",
    "Haciendo los cambios dentro del código de Python, tenemos los siguientes resultados:\n",
    "\n"
   ]
  },
  {
   "cell_type": "code",
   "execution_count": 4,
   "metadata": {
    "cell_id": "00004-cd12dc23-90e2-4deb-95a0-c66d0090b451",
    "deepnote_cell_type": "code",
    "deepnote_output_heights": [
     21
    ],
    "deepnote_to_be_reexecuted": false,
    "execution_millis": 0,
    "execution_start": 1638919337236,
    "source_hash": "47821fc0",
    "tags": []
   },
   "outputs": [
    {
     "name": "stdout",
     "output_type": "stream",
     "text": [
      "Apartamento ideal: [3 2 2 1 1 1 0]\n",
      "Apartamento 1: [4 2 2 1 1 1 1]\n",
      "Apartamento 2: [3 2 1 1 1 1 1]\n",
      "Apartamento 3: [5 3 2 1 1 1 0]\n",
      "Apartamento 4: [3 1 1 1 1 1 2]\n"
     ]
    }
   ],
   "source": [
    "ideal = np.array([3, 2, 2, 1, 1, 1, 0])\n",
    "\n",
    "ap_1 = np.array([4, 2, 2, 1, 1, 1, 1])\n",
    "ap_2 = np.array([3, 2, 1, 1, 1, 1, 1])\n",
    "ap_3 = np.array([5, 3, 2, 1, 1, 1, 0])\n",
    "ap_4 = np.array([3, 1, 1, 1, 1, 1, 2])\n",
    "\n",
    "print('Apartamento ideal:', ideal)\n",
    "print('Apartamento 1:', ap_1)\n",
    "print('Apartamento 2:', ap_2)\n",
    "print('Apartamento 3:', ap_3)\n",
    "print('Apartamento 4:', ap_4)"
   ]
  },
  {
   "cell_type": "markdown",
   "metadata": {},
   "source": [
    "Y con la nueva asignación de valores dentro de los vectores, ejecutaremos dentro de numpy el cálculo de la distancia euclidiana de la norma de vectores:\n"
   ]
  },
  {
   "cell_type": "code",
   "execution_count": 5,
   "metadata": {
    "cell_id": "00006-804ff503-6877-434d-a238-dbf9d17491ba",
    "deepnote_cell_type": "code",
    "deepnote_to_be_reexecuted": false,
    "execution_millis": 285,
    "execution_start": 1638919337237,
    "scrolled": true,
    "source_hash": "345b957b",
    "tags": []
   },
   "outputs": [
    {
     "name": "stdout",
     "output_type": "stream",
     "text": [
      "La distancia entre el apartamento ideal y el apartamento 1 es:  3.1622776601683795\n",
      "La distancia entre el apartamento ideal y el apartamento 2 es:  2.449489742783178\n",
      "La distancia entre el apartamento ideal y el apartamento 3 es:  4.123105625617661\n",
      "La distancia entre el apartamento ideal y el apartamento 4 es:  3.1622776601683795\n"
     ]
    }
   ],
   "source": [
    "ar_1 = np.linalg.norm(ideal_apartment - ap_1)\n",
    "ar_2 = np.linalg.norm(ideal_apartment - ap_2)\n",
    "ar_3 = np.linalg.norm(ideal_apartment - ap_3)\n",
    "ar_4 = np.linalg.norm(ideal_apartment - ap_4)\n",
    "print('La distancia entre el apartamento ideal y el apartamento 1 es: ', ar_1)\n",
    "print('La distancia entre el apartamento ideal y el apartamento 2 es: ', ar_2)\n",
    "print('La distancia entre el apartamento ideal y el apartamento 3 es: ', ar_3)\n",
    "print('La distancia entre el apartamento ideal y el apartamento 4 es: ', ar_4)"
   ]
  },
  {
   "cell_type": "markdown",
   "metadata": {},
   "source": [
    "\n",
    "Con los nuevos umbrales de montos mensuales, **Apartamento 2** 🎯 se coloca como la mejor opción que podemos elegir de acuerdo al ideal definido y tanto **Apartamento 1** y **Apartamento 4** se poscicionan empatados en segundo lugar. La peor opción que podemos tomar es ir por **Apartamento 3** debido al tema presupuestal que se entiende por el hecho de tener una habitación adicional.\n",
    "\n",
    "![](https://image.freepik.com/free-vector/qa-engineers-concept-illustration_114360-1896.jpg)\n",
    "\n",
    "Con esto demostramos que, al hacer mas granular el umbral de monto, afectamos la distancia de vectores y tenemos mas clara la opción a elegir.\n",
    "\n",
    ">**La distancia entre vectores y los vectores en general, tienen muchas aplicaciones en la vida diaria, entre las que destacan el diseño e implementación de carreteras, el corazón funcional de la ingeniería mecánica (puesto que en dicha disciplina, casi todo se refiere a vectores), en telecomunicaciones, etc.**\n",
    "\n",
    "Y ahora, con un proceso muy simple que podemos hacer mas robusto, puedes decir que tu hogar es la mejor opción que has elegido y la ciencia te respalda 😉\n"
   ]
  }
 ],
 "metadata": {
  "deepnote": {
   "is_reactive": false
  },
  "deepnote_execution_queue": [],
  "deepnote_notebook_id": "42c9fd95-1492-454b-ba72-8fd33468029e",
  "kernelspec": {
   "display_name": "Python 3 (ipykernel)",
   "language": "python",
   "name": "python3"
  },
  "language_info": {
   "codemirror_mode": {
    "name": "ipython",
    "version": 3
   },
   "file_extension": ".py",
   "mimetype": "text/x-python",
   "name": "python",
   "nbconvert_exporter": "python",
   "pygments_lexer": "ipython3",
   "version": "3.9.9"
  }
 },
 "nbformat": 4,
 "nbformat_minor": 2
}
