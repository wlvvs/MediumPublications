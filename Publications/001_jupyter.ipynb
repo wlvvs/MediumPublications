{
 "cells": [
  {
   "cell_type": "code",
   "execution_count": 1,
   "metadata": {},
   "outputs": [
    {
     "name": "stdout",
     "output_type": "stream",
     "text": [
      "Hola Juan Carlos\n"
     ]
    }
   ],
   "source": [
    "print('Hola Juan Carlos')"
   ]
  }
 ],
 "metadata": {
  "interpreter": {
   "hash": "fbf70ded30d3c1571d74107c828042e90fed05f9792ab84070c0523af1971f87"
  },
  "kernelspec": {
   "display_name": "Python 3.9.6 64-bit (windows store)",
   "language": "python",
   "name": "python3"
  },
  "language_info": {
   "codemirror_mode": {
    "name": "ipython",
    "version": 3
   },
   "file_extension": ".py",
   "mimetype": "text/x-python",
   "name": "python",
   "nbconvert_exporter": "python",
   "pygments_lexer": "ipython3",
   "version": "3.8.8"
  },
  "orig_nbformat": 4
 },
 "nbformat": 4,
 "nbformat_minor": 2
}
